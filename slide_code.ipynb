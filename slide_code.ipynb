{
  "nbformat": 4,
  "nbformat_minor": 0,
  "metadata": {
    "colab": {
      "provenance": [],
      "include_colab_link": true
    },
    "kernelspec": {
      "name": "python3",
      "display_name": "Python 3"
    },
    "language_info": {
      "name": "python"
    }
  },
  "cells": [
    {
      "cell_type": "markdown",
      "metadata": {
        "id": "view-in-github",
        "colab_type": "text"
      },
      "source": [
        "<a href=\"https://colab.research.google.com/github/eatyndale/LEARNING-JOURNEY/blob/main/slide_code.ipynb\" target=\"_parent\"><img src=\"https://colab.research.google.com/assets/colab-badge.svg\" alt=\"Open In Colab\"/></a>"
      ]
    },
    {
      "cell_type": "code",
      "execution_count": null,
      "metadata": {
        "colab": {
          "base_uri": "https://localhost:8080/"
        },
        "id": "5qV4t9UgqQsQ",
        "outputId": "b6769199-e8cf-4871-fd80-9f70b4bd67a8"
      },
      "outputs": [
        {
          "output_type": "stream",
          "name": "stdout",
          "text": [
            "[{'createSlide': {'slideLayoutReference': {'predefinedLayout': 'TITLE_AND_BODY'}, 'placeholderIdMappings': [{'layoutPlaceholder': {'type': 'TITLE', 'index': 0}, 'objectId': 'Title_Slide_TITLE'}, {'layoutPlaceholder': {'type': 'BODY', 'index': 0}, 'objectId': 'Title_Slide_BODY'}]}}, {'insertText': {'objectId': 'Title_Slide_TITLE', 'insertionIndex': 0, 'text': 'Title Slide'}}, {'insertText': {'objectId': 'Title_Slide_BODY', 'insertionIndex': 0, 'text': 'Implementation Plan for Mintyn Rewards Program\\n'}}, {'insertText': {'objectId': 'Title_Slide_BODY', 'insertionIndex': 0, 'text': 'Enhancing User Engagement and Loyalty\\n'}}, {'insertText': {'objectId': 'Title_Slide_BODY', 'insertionIndex': 0, 'text': 'Presented by: Amarachi Tyndale Eche\\n'}}, {'createSlide': {'slideLayoutReference': {'predefinedLayout': 'TITLE_AND_BODY'}, 'placeholderIdMappings': [{'layoutPlaceholder': {'type': 'TITLE', 'index': 0}, 'objectId': 'Objectives_TITLE'}, {'layoutPlaceholder': {'type': 'BODY', 'index': 0}, 'objectId': 'Objectives_BODY'}]}}, {'insertText': {'objectId': 'Objectives_TITLE', 'insertionIndex': 0, 'text': 'Objectives'}}, {'insertText': {'objectId': 'Objectives_BODY', 'insertionIndex': 0, 'text': 'Objectives of the Rewards Program:\\n'}}, {'insertText': {'objectId': 'Objectives_BODY', 'insertionIndex': 0, 'text': 'Increase user engagement and app usage\\n'}}, {'insertText': {'objectId': 'Objectives_BODY', 'insertionIndex': 0, 'text': 'Foster customer loyalty and retention\\n'}}, {'insertText': {'objectId': 'Objectives_BODY', 'insertionIndex': 0, 'text': 'Encourage utilization of multiple app features\\n'}}, {'insertText': {'objectId': 'Objectives_BODY', 'insertionIndex': 0, 'text': 'Enhance brand value and user satisfaction\\n'}}, {'createSlide': {'slideLayoutReference': {'predefinedLayout': 'TITLE_AND_BODY'}, 'placeholderIdMappings': [{'layoutPlaceholder': {'type': 'TITLE', 'index': 0}, 'objectId': 'Features_to_be_Rewarded_TITLE'}, {'layoutPlaceholder': {'type': 'BODY', 'index': 0}, 'objectId': 'Features_to_be_Rewarded_BODY'}]}}, {'insertText': {'objectId': 'Features_to_be_Rewarded_TITLE', 'insertionIndex': 0, 'text': 'Features to be Rewarded'}}, {'insertText': {'objectId': 'Features_to_be_Rewarded_BODY', 'insertionIndex': 0, 'text': 'App Features Included in the Rewards Program:\\n'}}, {'insertText': {'objectId': 'Features_to_be_Rewarded_BODY', 'insertionIndex': 0, 'text': 'Savings: Regular deposits, reaching savings milestones\\n'}}, {'insertText': {'objectId': 'Features_to_be_Rewarded_BODY', 'insertionIndex': 0, 'text': 'Investments: Starting and maintaining investments\\n'}}, {'insertText': {'objectId': 'Features_to_be_Rewarded_BODY', 'insertionIndex': 0, 'text': 'Referrals: Successfully referring new users\\n'}}, {'insertText': {'objectId': 'Features_to_be_Rewarded_BODY', 'insertionIndex': 0, 'text': 'Mintyn Debit Card: Acquiring and frequently using the card\\n'}}, {'insertText': {'objectId': 'Features_to_be_Rewarded_BODY', 'insertionIndex': 0, 'text': 'Bill Payments: Paying bills through the app\\n'}}, {'createSlide': {'slideLayoutReference': {'predefinedLayout': 'TITLE_AND_BODY'}, 'placeholderIdMappings': [{'layoutPlaceholder': {'type': 'TITLE', 'index': 0}, 'objectId': 'Types_of_Rewards_TITLE'}, {'layoutPlaceholder': {'type': 'BODY', 'index': 0}, 'objectId': 'Types_of_Rewards_BODY'}]}}, {'insertText': {'objectId': 'Types_of_Rewards_TITLE', 'insertionIndex': 0, 'text': 'Types of Rewards'}}, {'insertText': {'objectId': 'Types_of_Rewards_BODY', 'insertionIndex': 0, 'text': 'Types of Rewards Offered:\\n'}}, {'insertText': {'objectId': 'Types_of_Rewards_BODY', 'insertionIndex': 0, 'text': 'Vouchers: Showmaxx subscriptions, airtime, Spar vouchers\\n'}}, {'insertText': {'objectId': 'Types_of_Rewards_BODY', 'insertionIndex': 0, 'text': 'Merchandise: Branded apparel, accessories\\n'}}, {'insertText': {'objectId': 'Types_of_Rewards_BODY', 'insertionIndex': 0, 'text': 'Gadgets: Smartphones, tablets, smartwatches\\n'}}, {'createSlide': {'slideLayoutReference': {'predefinedLayout': 'TITLE_AND_BODY'}, 'placeholderIdMappings': [{'layoutPlaceholder': {'type': 'TITLE', 'index': 0}, 'objectId': 'Reward_Mechanism_TITLE'}, {'layoutPlaceholder': {'type': 'BODY', 'index': 0}, 'objectId': 'Reward_Mechanism_BODY'}]}}, {'insertText': {'objectId': 'Reward_Mechanism_TITLE', 'insertionIndex': 0, 'text': 'Reward Mechanism'}}, {'insertText': {'objectId': 'Reward_Mechanism_BODY', 'insertionIndex': 0, 'text': 'How Rewards are Earned:\\n'}}, {'insertText': {'objectId': 'Reward_Mechanism_BODY', 'insertionIndex': 0, 'text': 'Points System: Users earn points for each activity\\n'}}, {'insertText': {'objectId': 'Reward_Mechanism_BODY', 'insertionIndex': 0, 'text': 'Savings: 1 point per deposit\\n'}}, {'insertText': {'objectId': 'Reward_Mechanism_BODY', 'insertionIndex': 0, 'text': 'Investments: 2 points per investment action\\n'}}, {'insertText': {'objectId': 'Reward_Mechanism_BODY', 'insertionIndex': 0, 'text': 'Referrals: 5 points per successful referral\\n'}}, {'insertText': {'objectId': 'Reward_Mechanism_BODY', 'insertionIndex': 0, 'text': 'Debit Card: 1 point per transaction\\n'}}, {'insertText': {'objectId': 'Reward_Mechanism_BODY', 'insertionIndex': 0, 'text': 'Bill Payments: 1 point per payment\\n'}}, {'insertText': {'objectId': 'Reward_Mechanism_BODY', 'insertionIndex': 0, 'text': 'Redemption: Points can be exchanged for rewards in the Mintyn Rewards Store\\n'}}, {'createSlide': {'slideLayoutReference': {'predefinedLayout': 'TITLE_AND_BODY'}, 'placeholderIdMappings': [{'layoutPlaceholder': {'type': 'TITLE', 'index': 0}, 'objectId': 'User_Journey_TITLE'}, {'layoutPlaceholder': {'type': 'BODY', 'index': 0}, 'objectId': 'User_Journey_BODY'}]}}, {'insertText': {'objectId': 'User_Journey_TITLE', 'insertionIndex': 0, 'text': 'User Journey'}}, {'insertText': {'objectId': 'User_Journey_BODY', 'insertionIndex': 0, 'text': 'User Journey for Rewards Program:\\n'}}, {'insertText': {'objectId': 'User_Journey_BODY', 'insertionIndex': 0, 'text': 'Onboarding: Introduction to the rewards program during app sign-up\\n'}}, {'insertText': {'objectId': 'User_Journey_BODY', 'insertionIndex': 0, 'text': 'Engagement: Users engage with various app features to earn points\\n'}}, {'insertText': {'objectId': 'User_Journey_BODY', 'insertionIndex': 0, 'text': 'Tracking: Points accumulated are visible in the user’s profile\\n'}}, {'insertText': {'objectId': 'User_Journey_BODY', 'insertionIndex': 0, 'text': 'Redemption: Users visit the Rewards Store to redeem points for rewards\\n'}}, {'insertText': {'objectId': 'User_Journey_BODY', 'insertionIndex': 0, 'text': 'Notification: Users receive notifications about their rewards status and new offers\\n'}}, {'createSlide': {'slideLayoutReference': {'predefinedLayout': 'TITLE_AND_BODY'}, 'placeholderIdMappings': [{'layoutPlaceholder': {'type': 'TITLE', 'index': 0}, 'objectId': 'Technical_Implementation_TITLE'}, {'layoutPlaceholder': {'type': 'BODY', 'index': 0}, 'objectId': 'Technical_Implementation_BODY'}]}}, {'insertText': {'objectId': 'Technical_Implementation_TITLE', 'insertionIndex': 0, 'text': 'Technical Implementation'}}, {'insertText': {'objectId': 'Technical_Implementation_BODY', 'insertionIndex': 0, 'text': 'Technical Steps for Implementation:\\n'}}, {'insertText': {'objectId': 'Technical_Implementation_BODY', 'insertionIndex': 0, 'text': 'Backend Development: Set up a points tracking system and database\\n'}}, {'insertText': {'objectId': 'Technical_Implementation_BODY', 'insertionIndex': 0, 'text': 'Frontend Development: Design user interface for tracking and redeeming points\\n'}}, {'insertText': {'objectId': 'Technical_Implementation_BODY', 'insertionIndex': 0, 'text': 'Integration: Connect with third-party providers for vouchers and merchandise\\n'}}, {'insertText': {'objectId': 'Technical_Implementation_BODY', 'insertionIndex': 0, 'text': 'Testing: Conduct user testing and refine based on feedback\\n'}}, {'insertText': {'objectId': 'Technical_Implementation_BODY', 'insertionIndex': 0, 'text': 'Launch: Roll out the feature to all users\\n'}}, {'createSlide': {'slideLayoutReference': {'predefinedLayout': 'TITLE_AND_BODY'}, 'placeholderIdMappings': [{'layoutPlaceholder': {'type': 'TITLE', 'index': 0}, 'objectId': 'Marketing_Strategy_TITLE'}, {'layoutPlaceholder': {'type': 'BODY', 'index': 0}, 'objectId': 'Marketing_Strategy_BODY'}]}}, {'insertText': {'objectId': 'Marketing_Strategy_TITLE', 'insertionIndex': 0, 'text': 'Marketing Strategy'}}, {'insertText': {'objectId': 'Marketing_Strategy_BODY', 'insertionIndex': 0, 'text': 'Marketing the Rewards Program:\\n'}}, {'insertText': {'objectId': 'Marketing_Strategy_BODY', 'insertionIndex': 0, 'text': 'Pre-Launch Campaign: Create awareness through social media and email campaigns\\n'}}, {'insertText': {'objectId': 'Marketing_Strategy_BODY', 'insertionIndex': 0, 'text': 'Launch Event: Host a virtual event to introduce the rewards program\\n'}}, {'insertText': {'objectId': 'Marketing_Strategy_BODY', 'insertionIndex': 0, 'text': 'In-App Notifications: Regular updates and reminders about earning and redeeming points\\n'}}, {'insertText': {'objectId': 'Marketing_Strategy_BODY', 'insertionIndex': 0, 'text': 'Partnerships: Collaborate with brands for exclusive rewards and promotions\\n'}}, {'createSlide': {'slideLayoutReference': {'predefinedLayout': 'TITLE_AND_BODY'}, 'placeholderIdMappings': [{'layoutPlaceholder': {'type': 'TITLE', 'index': 0}, 'objectId': 'Metrics_for_Success_TITLE'}, {'layoutPlaceholder': {'type': 'BODY', 'index': 0}, 'objectId': 'Metrics_for_Success_BODY'}]}}, {'insertText': {'objectId': 'Metrics_for_Success_TITLE', 'insertionIndex': 0, 'text': 'Metrics for Success'}}, {'insertText': {'objectId': 'Metrics_for_Success_BODY', 'insertionIndex': 0, 'text': 'Key Performance Indicators:\\n'}}, {'insertText': {'objectId': 'Metrics_for_Success_BODY', 'insertionIndex': 0, 'text': 'User Engagement: Increase in daily active users\\n'}}, {'insertText': {'objectId': 'Metrics_for_Success_BODY', 'insertionIndex': 0, 'text': 'Retention Rate: Improvement in user retention metrics\\n'}}, {'insertText': {'objectId': 'Metrics_for_Success_BODY', 'insertionIndex': 0, 'text': 'Feature Usage: Higher usage of savings, investments, referrals, and bill payments\\n'}}, {'insertText': {'objectId': 'Metrics_for_Success_BODY', 'insertionIndex': 0, 'text': 'Redemption Rate: Number of points redeemed for rewards\\n'}}, {'insertText': {'objectId': 'Metrics_for_Success_BODY', 'insertionIndex': 0, 'text': 'Customer Satisfaction: Positive feedback and reviews\\n'}}, {'createSlide': {'slideLayoutReference': {'predefinedLayout': 'TITLE_AND_BODY'}, 'placeholderIdMappings': [{'layoutPlaceholder': {'type': 'TITLE', 'index': 0}, 'objectId': 'Timeline_TITLE'}, {'layoutPlaceholder': {'type': 'BODY', 'index': 0}, 'objectId': 'Timeline_BODY'}]}}, {'insertText': {'objectId': 'Timeline_TITLE', 'insertionIndex': 0, 'text': 'Timeline'}}, {'insertText': {'objectId': 'Timeline_BODY', 'insertionIndex': 0, 'text': 'Project Timeline:\\n'}}, {'insertText': {'objectId': 'Timeline_BODY', 'insertionIndex': 0, 'text': 'Month 1: Planning and requirements gathering\\n'}}, {'insertText': {'objectId': 'Timeline_BODY', 'insertionIndex': 0, 'text': 'Month 2-3: Development and integration\\n'}}, {'insertText': {'objectId': 'Timeline_BODY', 'insertionIndex': 0, 'text': 'Month 4: Testing and user feedback\\n'}}, {'insertText': {'objectId': 'Timeline_BODY', 'insertionIndex': 0, 'text': 'Month 5: Marketing and pre-launch activities\\n'}}, {'insertText': {'objectId': 'Timeline_BODY', 'insertionIndex': 0, 'text': 'Month 6: Official launch and monitoring\\n'}}, {'createSlide': {'slideLayoutReference': {'predefinedLayout': 'TITLE_AND_BODY'}, 'placeholderIdMappings': [{'layoutPlaceholder': {'type': 'TITLE', 'index': 0}, 'objectId': 'Conclusion_TITLE'}, {'layoutPlaceholder': {'type': 'BODY', 'index': 0}, 'objectId': 'Conclusion_BODY'}]}}, {'insertText': {'objectId': 'Conclusion_TITLE', 'insertionIndex': 0, 'text': 'Conclusion'}}, {'insertText': {'objectId': 'Conclusion_BODY', 'insertionIndex': 0, 'text': 'Conclusion:\\n'}}, {'insertText': {'objectId': 'Conclusion_BODY', 'insertionIndex': 0, 'text': 'The Mintyn Rewards Program is a strategic initiative to enhance user engagement and loyalty.\\n'}}, {'insertText': {'objectId': 'Conclusion_BODY', 'insertionIndex': 0, 'text': 'By rewarding users for using various app features, we aim to create a more interactive and rewarding experience.\\n'}}, {'insertText': {'objectId': 'Conclusion_BODY', 'insertionIndex': 0, 'text': 'Successful implementation and marketing will position Mintyn as a leading app in user satisfaction and engagement.\\n'}}]\n",
            "https://docs.google.com/presentation/d/1i3sxVg6c8rP0kWY1v_g6ORfgcNBAb58AsHYah1OZ7I0/edit\n"
          ]
        }
      ],
      "source": [
        "from google.oauth2 import service_account\n",
        "import googleapiclient.discovery\n",
        "\n",
        "# Authenticate and create the service\n",
        "SCOPES = ['https://www.googleapis.com/auth/presentations', 'https://www.googleapis.com/auth/drive']\n",
        "# Use a Linux-style path, and make sure this file actually exists\n",
        "SERVICE_ACCOUNT_FILE = \"/content/sample_data/dulcet-glazing-429522-f6-7ce3b5b07588.json\"\n",
        "\n",
        "credentials = service_account.Credentials.from_service_account_file(\n",
        "    SERVICE_ACCOUNT_FILE, scopes=SCOPES)\n",
        "service = googleapiclient.discovery.build('slides', 'v1', credentials=credentials)\n",
        "\n",
        "# Create a new presentation\n",
        "presentation = {\n",
        "    'title': 'Implementation Plan for Mintyn Rewards Program'\n",
        "}\n",
        "\n",
        "presentation = service.presentations().create(body=presentation).execute()\n",
        "presentation_id = presentation.get('presentationId')\n",
        "\n",
        "slides_data = [\n",
        "    {\"slide_title\": \"Title Slide\", \"slide_content\": [\"Implementation Plan for Mintyn Rewards Program\", \"Enhancing User Engagement and Loyalty\", \"Presented by: Amarachi Tyndale Eche\"]},\n",
        "    {\"slide_title\": \"Objectives\", \"slide_content\": [\"Objectives of the Rewards Program:\", \"Increase user engagement and app usage\", \"Foster customer loyalty and retention\", \"Encourage utilization of multiple app features\", \"Enhance brand value and user satisfaction\"]},\n",
        "    {\"slide_title\": \"Features to be Rewarded\", \"slide_content\": [\"App Features Included in the Rewards Program:\", \"Savings: Regular deposits, reaching savings milestones\", \"Investments: Starting and maintaining investments\", \"Referrals: Successfully referring new users\", \"Mintyn Debit Card: Acquiring and frequently using the card\", \"Bill Payments: Paying bills through the app\"]},\n",
        "    {\"slide_title\": \"Types of Rewards\", \"slide_content\": [\"Types of Rewards Offered:\", \"Vouchers: Showmaxx subscriptions, airtime, Spar vouchers\", \"Merchandise: Branded apparel, accessories\", \"Gadgets: Smartphones, tablets, smartwatches\"]},\n",
        "    {\"slide_title\": \"Reward Mechanism\", \"slide_content\": [\"How Rewards are Earned:\", \"Points System: Users earn points for each activity\", \"Savings: 1 point per deposit\", \"Investments: 2 points per investment action\", \"Referrals: 5 points per successful referral\", \"Debit Card: 1 point per transaction\", \"Bill Payments: 1 point per payment\", \"Redemption: Points can be exchanged for rewards in the Mintyn Rewards Store\"]},\n",
        "    {\"slide_title\": \"User Journey\", \"slide_content\": [\"User Journey for Rewards Program:\", \"Onboarding: Introduction to the rewards program during app sign-up\", \"Engagement: Users engage with various app features to earn points\", \"Tracking: Points accumulated are visible in the user’s profile\", \"Redemption: Users visit the Rewards Store to redeem points for rewards\", \"Notification: Users receive notifications about their rewards status and new offers\"]},\n",
        "    {\"slide_title\": \"Technical Implementation\", \"slide_content\": [\"Technical Steps for Implementation:\", \"Backend Development: Set up a points tracking system and database\", \"Frontend Development: Design user interface for tracking and redeeming points\", \"Integration: Connect with third-party providers for vouchers and merchandise\", \"Testing: Conduct user testing and refine based on feedback\", \"Launch: Roll out the feature to all users\"]},\n",
        "    {\"slide_title\": \"Marketing Strategy\", \"slide_content\": [\"Marketing the Rewards Program:\", \"Pre-Launch Campaign: Create awareness through social media and email campaigns\", \"Launch Event: Host a virtual event to introduce the rewards program\", \"In-App Notifications: Regular updates and reminders about earning and redeeming points\", \"Partnerships: Collaborate with brands for exclusive rewards and promotions\"]},\n",
        "    {\"slide_title\": \"Metrics for Success\", \"slide_content\": [\"Key Performance Indicators:\", \"User Engagement: Increase in daily active users\", \"Retention Rate: Improvement in user retention metrics\", \"Feature Usage: Higher usage of savings, investments, referrals, and bill payments\", \"Redemption Rate: Number of points redeemed for rewards\", \"Customer Satisfaction: Positive feedback and reviews\"]},\n",
        "    {\"slide_title\": \"Timeline\", \"slide_content\": [\"Project Timeline:\", \"Month 1: Planning and requirements gathering\", \"Month 2-3: Development and integration\", \"Month 4: Testing and user feedback\", \"Month 5: Marketing and pre-launch activities\", \"Month 6: Official launch and monitoring\"]},\n",
        "    {\"slide_title\": \"Conclusion\", \"slide_content\": [\"Conclusion:\", \"The Mintyn Rewards Program is a strategic initiative to enhance user engagement and loyalty.\", \"By rewarding users for using various app features, we aim to create a more interactive and rewarding experience.\", \"Successful implementation and marketing will position Mintyn as a leading app in user satisfaction and engagement.\"]}\n",
        "]\n",
        "\n",
        "# Create slide requests\n",
        "requests = []\n",
        "for slide in slides_data:\n",
        "    requests.append({\n",
        "        'createSlide': {\n",
        "            'slideLayoutReference': {\n",
        "                'predefinedLayout': 'TITLE_AND_BODY'\n",
        "            },\n",
        "            'placeholderIdMappings': [\n",
        "                {\n",
        "                    'layoutPlaceholder': {\n",
        "                        'type': 'TITLE',\n",
        "                        'index': 0\n",
        "                    },\n",
        "                    'objectId': f\"{slide['slide_title'].replace(' ', '_')}_TITLE\"\n",
        "                },\n",
        "                {\n",
        "                    'layoutPlaceholder': {\n",
        "                        'type': 'BODY',\n",
        "                        'index': 0\n",
        "                    },\n",
        "                    'objectId': f\"{slide['slide_title'].replace(' ', '_')}_BODY\"\n",
        "                }\n",
        "            ]\n",
        "        }\n",
        "    })\n",
        "    requests.append({\n",
        "        'insertText': {\n",
        "            'objectId': f\"{slide['slide_title'].replace(' ', '_')}_TITLE\",\n",
        "            'insertionIndex': 0,\n",
        "            'text': slide['slide_title']\n",
        "        }\n",
        "    })\n",
        "    for i, content in enumerate(slide['slide_content']):\n",
        "        contents = \"\"\n",
        "        requests.append({\n",
        "            'insertText': {\n",
        "                'objectId': f\"{slide['slide_title'].replace(' ', '_')}_BODY\",\n",
        "                'insertionIndex': len(contents),\n",
        "                'text': f\"{content}\\n\"\n",
        "            }\n",
        "        })\n",
        "        contents += content\n",
        "\n",
        "# Execute the batch update\n",
        "body = {\n",
        "    'requests': requests\n",
        "}\n",
        "\n",
        "print(requests)\n",
        "\n",
        "response = service.presentations().batchUpdate(presentationId=presentation_id, body=body).execute()\n",
        "\n",
        "# Share the presentation\n",
        "drive_service = googleapiclient.discovery.build('drive', 'v3', credentials=credentials)\n",
        "drive_service.permissions().create(\n",
        "    fileId=presentation_id,\n",
        "    body={'type': 'user', 'role': 'writer', 'emailAddress': 'amarachi.eche@mintyn.com'}\n",
        ").execute()\n",
        "\n",
        "presentation_url = f\"https://docs.google.com/presentation/d/{presentation_id}/edit\"\n",
        "\n",
        "print(presentation_url)\n"
      ]
    }
  ]
}