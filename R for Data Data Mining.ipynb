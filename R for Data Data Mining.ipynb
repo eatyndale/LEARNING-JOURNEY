{
  "nbformat": 4,
  "nbformat_minor": 0,
  "metadata": {
    "colab": {
      "provenance": [],
      "collapsed_sections": [
        "mqx3F3AjJVs9"
      ],
      "include_colab_link": true
    },
    "kernelspec": {
      "name": "ir",
      "display_name": "R"
    },
    "language_info": {
      "name": "R"
    }
  },
  "cells": [
    {
      "cell_type": "markdown",
      "metadata": {
        "id": "view-in-github",
        "colab_type": "text"
      },
      "source": [
        "<a href=\"https://colab.research.google.com/github/eatyndale/LEARNING-JOURNEY/blob/main/R%20for%20Data%20Data%20Mining.ipynb\" target=\"_parent\"><img src=\"https://colab.research.google.com/assets/colab-badge.svg\" alt=\"Open In Colab\"/></a>"
      ]
    },
    {
      "cell_type": "markdown",
      "source": [
        "#BASICS"
      ],
      "metadata": {
        "id": "Gic42AQUvdFe"
      }
    },
    {
      "cell_type": "code",
      "source": [
        "{r <- 2\n",
        "area <- pi * r ^ 2\n",
        "print (paste(\"The area of this particular circle is\", area, \"metres squared\"))}"
      ],
      "metadata": {
        "colab": {
          "base_uri": "https://localhost:8080/"
        },
        "id": "CIKm09wWErBl",
        "outputId": "09cedd78-9234-4f44-cc9c-c23f8c31229c"
      },
      "execution_count": null,
      "outputs": [
        {
          "output_type": "stream",
          "name": "stdout",
          "text": [
            "[1] \"The area of this particular circle is 12.56636 metres squared\"\n"
          ]
        }
      ]
    },
    {
      "cell_type": "code",
      "execution_count": null,
      "metadata": {
        "colab": {
          "base_uri": "https://localhost:8080/"
        },
        "id": "34B4KVRS6on_",
        "outputId": "d44f8c97-fdb9-432e-b034-113c743eaf43"
      },
      "outputs": [
        {
          "output_type": "stream",
          "name": "stdout",
          "text": [
            "Please enter the radius of the circle: 7\n",
            "[1] \"The Area of this new circle is 153.93791 meters squared.\"\n"
          ]
        }
      ],
      "source": [
        "radius <- as.numeric(readline(\"Please enter the radius of the circle: \"))\n",
        "area <- pi*radius^2\n",
        "#print(area)\n",
        "print(paste(\"The Area of this new circle is\", area, \"meters squared.\"))"
      ]
    },
    {
      "cell_type": "markdown",
      "source": [
        "#VARIABLES\n",
        "A variable is a name given to a computer location\n",
        "##four rules in creating variables:\n",
        "1. Start with a character or \"_\" sign\n",
        "2. no keywords (eg: \"for <- 56\", while <- 20, etc)\n",
        "3. no special symbols/characters except \"_\"\n",
        "4. Case sensitive\n",
        "\n"
      ],
      "metadata": {
        "id": "mqx3F3AjJVs9"
      }
    },
    {
      "cell_type": "code",
      "source": [
        "x<-10\n",
        "y<-20"
      ],
      "metadata": {
        "colab": {
          "base_uri": "https://localhost:8080/"
        },
        "id": "fRLOgH2WMEL_",
        "outputId": "6e1debbc-7be5-49b5-c338-73ffd03c9e1c"
      },
      "execution_count": null,
      "outputs": [
        {
          "output_type": "stream",
          "name": "stdout",
          "text": [
            "[1] 30\n"
          ]
        }
      ]
    },
    {
      "cell_type": "code",
      "source": [
        "name <- as.character(readline(\"Please enter your name: \"))\n",
        "current_age <- as.numeric(readline(\"Please enter your current age: \"))\n",
        "age_next_year <- current_age + 1\n",
        "\n",
        "print(paste(\"Hi, \", name, \"next year you will be \",age_next_year, \" years old.\"))"
      ],
      "metadata": {
        "id": "rUoXUuHvTU9v",
        "colab": {
          "base_uri": "https://localhost:8080/"
        },
        "outputId": "4b34f0bb-0ec8-4dea-b0bc-cfbb1cd8e3f5"
      },
      "execution_count": null,
      "outputs": [
        {
          "output_type": "stream",
          "name": "stdout",
          "text": [
            "Please enter your name: Pradeep\n",
            "Please enter your current age: 45\n",
            "[1] \"Hi,  Pradeep next year you will be  46  years old.\"\n"
          ]
        }
      ]
    },
    {
      "cell_type": "markdown",
      "source": [
        "#CONDTIONAL STATEMENTS\n",
        "When you have moe than 1 option and can oly select one at a time.\n",
        "\n",
        "##methods\n",
        "1. If - else\n",
        "2. Case (switch)\n",
        "\n",
        "###for If -else\n",
        " if (test_expression) {\n",
        "    statement\n",
        "    } else {\n",
        "      (sttaement)\n",
        " }\n",
        "\n",
        "there is the nested if/if-else ladder structure. ie multiple if and else statements\n",
        "\n"
      ],
      "metadata": {
        "id": "i5qRJXnQuqUv"
      }
    },
    {
      "cell_type": "code",
      "source": [
        "{\n",
        "  mark_1 <- as.numeric(readline(\"Please enter your score for course 1: \"))\n",
        "  mark_2 <- as.numeric(readline(\"Please enter your score for course 2: \"))\n",
        "  mark_3 <- as.numeric(readline(\"Please enter your score for course 3: \"))\n",
        "\n",
        "  total_marks <- as.numeric(mark_1 + mark_2 + mark_3)\n",
        "  mark_average <- round(total_marks/3)\n",
        "  print (paste(\"Your total mark is\", total_marks, \"while Your average mark is:\", mark_average))\n",
        "\n",
        "    if (mark_average <= 100 & mark_average >= 70) {\n",
        "    grade <- \"Distinction\"\n",
        "  } else if (mark_average <70 & mark_average >= 60) {\n",
        "    grade <- \"Merit\"\n",
        "  } else if (mark_average <60 & mark_average >= 50) {\n",
        "    grade <- \"Pass\"\n",
        "  } else {\n",
        "    grade <- \"Fail\"\n",
        "  }\n",
        "\n",
        "  print(paste(\"Your total mark is\", total_marks, \"while your average mark is:\", mark_average))\n",
        "  print(paste(\"Your grade is:\", grade))\n",
        "}\n",
        "\n",
        "\n"
      ],
      "metadata": {
        "colab": {
          "base_uri": "https://localhost:8080/"
        },
        "id": "egYlcEtyWOb-",
        "outputId": "bf2567b8-e126-4e18-ab7a-4028ecf12013"
      },
      "execution_count": null,
      "outputs": [
        {
          "output_type": "stream",
          "name": "stdout",
          "text": [
            "Please enter your score for course 1: 78\n",
            "Please enter your score for course 2: 98\n",
            "Please enter your score for course 3: 90\n",
            "[1] \"Your total mark is 266 while Your average mark is: 89\"\n",
            "[1] \"Your total mark is 266 while your average mark is: 89\"\n",
            "[1] \"Your grade is: Distinction\"\n"
          ]
        }
      ]
    },
    {
      "cell_type": "code",
      "source": [
        "rnorm(10)"
      ],
      "metadata": {
        "id": "asK7hhIkgTvN",
        "colab": {
          "base_uri": "https://localhost:8080/",
          "height": 34
        },
        "outputId": "82bb0bfb-b415-4e61-ebc7-17d6f325768c"
      },
      "execution_count": null,
      "outputs": [
        {
          "output_type": "display_data",
          "data": {
            "text/html": [
              "<style>\n",
              ".list-inline {list-style: none; margin:0; padding: 0}\n",
              ".list-inline>li {display: inline-block}\n",
              ".list-inline>li:not(:last-child)::after {content: \"\\00b7\"; padding: 0 .5ex}\n",
              "</style>\n",
              "<ol class=list-inline><li>-0.966407263690509</li><li>-0.0998677472028708</li><li>0.30531837501447</li><li>-2.27566648567459</li><li>-0.348977155866052</li><li>0.468729687861349</li><li>0.623784706641736</li><li>-0.103981303286949</li><li>2.15583130076569</li></ol>\n"
            ],
            "text/markdown": "1. -0.966407263690509\n2. -0.0998677472028708\n3. 0.30531837501447\n4. -2.27566648567459\n5. -0.348977155866052\n6. 0.468729687861349\n7. 0.623784706641736\n8. -0.103981303286949\n9. 2.15583130076569\n\n\n",
            "text/latex": "\\begin{enumerate*}\n\\item -0.966407263690509\n\\item -0.0998677472028708\n\\item 0.30531837501447\n\\item -2.27566648567459\n\\item -0.348977155866052\n\\item 0.468729687861349\n\\item 0.623784706641736\n\\item -0.103981303286949\n\\item 2.15583130076569\n\\end{enumerate*}\n",
            "text/plain": [
              "[1] -0.96640726 -0.09986775  0.30531838 -2.27566649 -0.34897716  0.46872969\n",
              "[7]  0.62378471 -0.10398130  2.15583130"
            ]
          },
          "metadata": {}
        }
      ]
    },
    {
      "cell_type": "code",
      "source": [
        "{\n",
        "random_number <- rnorm(1)\n",
        "  print(paste(\"your number is\",random_number))\n",
        "\n",
        "if (random_number > 1) {\n",
        "  (\"The number is greater than 1\")\n",
        "} else if (random_number >= -1) {\n",
        "  (\"The number is between -1 and +1\")\n",
        "} else {\n",
        "  (\"The number is less than -1\")\n",
        "}\n",
        "}"
      ],
      "metadata": {
        "id": "oXIzJNG06AAY"
      },
      "execution_count": null,
      "outputs": []
    },
    {
      "cell_type": "code",
      "source": [],
      "metadata": {
        "id": "IBdAjm7U-ekD"
      },
      "execution_count": null,
      "outputs": []
    },
    {
      "cell_type": "markdown",
      "source": [
        "#Repitition\n",
        "\n",
        "While loop\n",
        "{\n",
        "  x <- 1\n",
        "  while (x <= 10) {\n",
        "    print(x)\n",
        "    x <- x + 1\n",
        "  }\n",
        "}\n",
        "\n",
        "every single occurence in a repition is a an interation. and the entire iteration is ccalled loop.\n",
        "\n",
        "two types of loop:\n",
        "##while loop\n",
        "##for loop\n",
        "\n",
        "in  while loop, until the condtions are satisfied, you need to repeat the instruction."
      ],
      "metadata": {
        "id": "9Im4AXi3_WIe"
      }
    },
    {
      "cell_type": "code",
      "source": [
        "{\n",
        "  x <- 1\n",
        "  while (x <= 10) {\n",
        "    print(x)\n",
        "    x <- x + 1\n",
        "  }\n",
        "}"
      ],
      "metadata": {
        "id": "RMC_59-1_j2u"
      },
      "execution_count": null,
      "outputs": []
    },
    {
      "cell_type": "code",
      "source": [
        "x<-0\n",
        "while (x<5){\n",
        "  print(\"pradeep\")\n",
        "}\n",
        "\n",
        "#this will introduce an infinite loop because until x changes, it will always be less than 5"
      ],
      "metadata": {
        "id": "T0D5cyfWCElB"
      },
      "execution_count": null,
      "outputs": []
    },
    {
      "cell_type": "markdown",
      "source": [
        "In the while loop, you can use 2 extra commands:\n",
        "1. next (this is used to skip iterations and move to the next iteration)\n",
        "2. break (this is used to completely stop the entire loop)"
      ],
      "metadata": {
        "id": "thdnvo9qE0Bq"
      }
    },
    {
      "cell_type": "markdown",
      "source": [
        "Range performs/lists series of alues from a lower limit to an upper limit, using a specified interval\n",
        "if the interval is nopt stated, it assumes an interval of 1\n",
        "this is very important in for loop"
      ],
      "metadata": {
        "id": "HTSH4nt-TN9N"
      }
    },
    {
      "cell_type": "code",
      "source": [
        "x <- 1:3\n",
        "for (val in x) {\n",
        "  print (\"pradeep\")\n",
        "}"
      ],
      "metadata": {
        "colab": {
          "base_uri": "https://localhost:8080/"
        },
        "id": "SSTMUTPpTsvv",
        "outputId": "9e532ce6-7bf3-459a-b8ab-9ae37680c76e"
      },
      "execution_count": null,
      "outputs": [
        {
          "output_type": "stream",
          "name": "stdout",
          "text": [
            "[1] \"pradeep\"\n",
            "[1] \"pradeep\"\n",
            "[1] \"pradeep\"\n"
          ]
        }
      ]
    },
    {
      "cell_type": "markdown",
      "source": [
        "for loop is used when the length of the loop is known and defined"
      ],
      "metadata": {
        "id": "lZMxyWUsWAQz"
      }
    },
    {
      "cell_type": "markdown",
      "source": [
        "difference between REPEAT and WWHILE loops is that while loop conditions are stated before the functions, while repeat loops can be inside the functions"
      ],
      "metadata": {
        "id": "h-Cn-xJvWbz5"
      }
    },
    {
      "cell_type": "code",
      "source": [
        "# prompt: Write a while loop that prints out standard random normal numbers (use rnorm()) but stops (breaks) if you get a number bigger than 1.\n",
        "\n",
        "x <- 0\n",
        "while (x < 5) {\n",
        "  random_number <- rnorm(1)\n",
        "  print(random_number)\n",
        "  if (random_number > 1) {\n",
        "    break\n",
        "  }\n",
        "  x <- x + 1\n",
        "}"
      ],
      "metadata": {
        "id": "VEnQ8XlravSQ"
      },
      "execution_count": null,
      "outputs": []
    },
    {
      "cell_type": "markdown",
      "source": [
        "VECTOR OPERATIONS"
      ],
      "metadata": {
        "id": "vVMT3ZKeTocw"
      }
    },
    {
      "cell_type": "code",
      "source": [
        "# prompt: create a list with 1 to 10 numbers and print square values of each number\n",
        "\n",
        "# Create a list of numbers from 1 to 10\n",
        "my_list <- 1:10\n",
        "\n",
        "# Calculate and print the square of each number\n",
        "for (number in my_list) {\n",
        "  square <- number^2\n",
        "  print(paste(\"The square of\", number, \"is\", square))\n",
        "}"
      ],
      "metadata": {
        "colab": {
          "base_uri": "https://localhost:8080/"
        },
        "id": "8lvZ4FY0U-6x",
        "outputId": "a0e986b4-9716-4149-b215-4c7b2146c764"
      },
      "execution_count": null,
      "outputs": [
        {
          "output_type": "stream",
          "name": "stdout",
          "text": [
            "[1] \"The square of 1 is 1\"\n",
            "[1] \"The square of 2 is 4\"\n",
            "[1] \"The square of 3 is 9\"\n",
            "[1] \"The square of 4 is 16\"\n",
            "[1] \"The square of 5 is 25\"\n",
            "[1] \"The square of 6 is 36\"\n",
            "[1] \"The square of 7 is 49\"\n",
            "[1] \"The square of 8 is 64\"\n",
            "[1] \"The square of 9 is 81\"\n",
            "[1] \"The square of 10 is 100\"\n"
          ]
        }
      ]
    },
    {
      "cell_type": "code",
      "source": [
        "\n",
        "\n",
        "# Create a vector A\n",
        "A <- c(10, 20, 30)\n",
        "\n",
        "# Calculate the sum\n",
        "sum_A <- sum(A)\n",
        "\n",
        "# Calculate the mean\n",
        "mean_A <- mean(A)\n",
        "\n",
        "# Find the minimum value\n",
        "min_A <- min(A)\n",
        "\n",
        "# Calculate the product\n",
        "prod_A <- prod(A)\n",
        "\n",
        "# Print the results\n",
        "cat(\"Vector A:\", A, \"\\n\")\n",
        "cat(\"Sum:\", sum_A, \"\\n\")\n",
        "cat(\"Mean:\", mean_A, \"\\n\")\n",
        "cat(\"Minimum:\", min_A, \"\\n\")\n",
        "cat(\"Product:\", prod_A, \"\\n\")"
      ],
      "metadata": {
        "id": "BF_uBckCWf0C"
      },
      "execution_count": null,
      "outputs": []
    },
    {
      "cell_type": "code",
      "source": [
        "# prompt: write a program to find the sum, mean and product of the vector b ignoring elements like NA or NaN. b = c(10, NULL, 20, 30, NA)\n",
        "\n",
        "b <- c(10, NULL, 20, 30, NA)\n",
        "\n",
        "# Remove NA and NaN values\n",
        "b <- b[!is.na(b)]\n",
        "b <- b[!is.nan(b)]\n",
        "b <- b[!is.null(b)]\n",
        "\n",
        "# Calculate sum, mean, and product\n",
        "sum_b <- sum(b,na.rm = TRUE)\n",
        "print(sum_b)\n",
        "mean_b <- mean(b, na.rm = TRUE)\n",
        "prod_b <- prod(b, na.rm = TRUE)\n",
        "\n",
        "# Print the results\n",
        "cat(\"Vector b (cleaned):\", b, \"\\n\")\n",
        "cat(\"Sum:\", sum_b, \"\\n\")\n",
        "cat(\"Mean:\", mean_b, \"\\n\")\n",
        "cat(\"Product:\", prod_b, \"\\n\")"
      ],
      "metadata": {
        "colab": {
          "base_uri": "https://localhost:8080/"
        },
        "id": "7cioHriIYgEd",
        "outputId": "a2860036-a600-4160-cc52-08d2b45a6bb6"
      },
      "execution_count": null,
      "outputs": [
        {
          "output_type": "stream",
          "name": "stdout",
          "text": [
            "[1] 60\n",
            "Vector b (cleaned): 10 20 30 \n",
            "Sum: 60 \n",
            "Mean: 20 \n",
            "Product: 6000 \n"
          ]
        }
      ]
    },
    {
      "cell_type": "code",
      "source": [
        "# prompt: write a program to test whether the numbers 25 and 56 are elements of the vector c c=c(10, 20, 30, 25, 9, 26)\n",
        "\n",
        "# Create the vecto\n",
        "c <- c(10, 20, 30, 25, 9, 26)\n",
        "\n",
        "# Check if 25 is an element of c\n",
        "is_25_present <- 25 %in% c\n",
        "\n",
        "# Check if 56 is an element of c\n",
        "is_56_present <- 56 %in% c\n",
        "\n",
        "# Print the results\n",
        "cat(\"Is 25 present in vector c?\", is_25_present, \"\\n\")\n",
        "cat(\"Is 56 present in vector c?\", is_56_present, \"\\n\")"
      ],
      "metadata": {
        "id": "f4YzhUd8a7fb"
      },
      "execution_count": null,
      "outputs": []
    },
    {
      "cell_type": "code",
      "source": [
        "b <- c(10, NULL, 20, 30, NA)\n",
        "\n",
        "\n",
        "\n",
        "# Calculate sum, mean, and product\n",
        "sum_b <- sum(b,na.rm = TRUE)\n",
        "print(sum_b)"
      ],
      "metadata": {
        "id": "AvTTPUeoehrX",
        "outputId": "e04358c3-5b93-47a8-eb3a-103d25e260a8",
        "colab": {
          "base_uri": "https://localhost:8080/"
        }
      },
      "execution_count": null,
      "outputs": [
        {
          "output_type": "stream",
          "name": "stdout",
          "text": [
            "[1] 60\n"
          ]
        }
      ]
    },
    {
      "cell_type": "code",
      "source": [
        "#activity 7\n",
        "p <- c(2, 7, 8)\n",
        "q <- c(\"A\", \"B\", \"C\")\n",
        "x <- list(p, q)\n",
        "print (x[2])"
      ],
      "metadata": {
        "colab": {
          "base_uri": "https://localhost:8080/"
        },
        "id": "bYB8DakDpDGp",
        "outputId": "6b27fae7-207e-4a7e-ffc6-bf572cb1b665"
      },
      "execution_count": 2,
      "outputs": [
        {
          "output_type": "stream",
          "name": "stdout",
          "text": [
            "[[1]]\n",
            "[1] \"A\" \"B\" \"C\"\n",
            "\n"
          ]
        }
      ]
    },
    {
      "cell_type": "code",
      "source": [
        "#activity8\n",
        "w <- c(2, 7, 8)\n",
        "v <- c(\"A\", \"B\", \"C\")\n",
        "x <- list(w, v)\n",
        "\n",
        "print (x)\n",
        "\n",
        "w[1] <- \"K\"\n",
        "x <- list(w, v)\n",
        "print(x)"
      ],
      "metadata": {
        "colab": {
          "base_uri": "https://localhost:8080/"
        },
        "id": "ShuPiAN8pSrz",
        "outputId": "1fb794d2-b027-4b8c-d8a5-dc8ea2dee1da"
      },
      "execution_count": 19,
      "outputs": [
        {
          "output_type": "stream",
          "name": "stdout",
          "text": [
            "[[1]]\n",
            "[1] 2 7 8\n",
            "\n",
            "[[2]]\n",
            "[1] \"A\" \"B\" \"C\"\n",
            "\n",
            "[[1]]\n",
            "[1] \"2\" \"K\" \"8\"\n",
            "\n",
            "[[2]]\n",
            "[1] \"A\" \"B\" \"C\"\n",
            "\n"
          ]
        }
      ]
    },
    {
      "cell_type": "code",
      "source": [
        "#activity8 V2\n",
        "w <- c(2, 7, 8)\n",
        "v <- c(\"A\", \"B\", \"C\")\n",
        "x <- list(w, v)\n",
        "\n",
        "print (x)\n",
        "x[[2]][1] <- \"K\"\n",
        "\n",
        "print(x)"
      ],
      "metadata": {
        "id": "4VGaVnGvsMSz"
      },
      "execution_count": null,
      "outputs": []
    },
    {
      "cell_type": "code",
      "source": [
        "#activity9\n",
        "a <- list(x = 5, y = 10, z = 15)\n",
        "sum(unlist(a))"
      ],
      "metadata": {
        "colab": {
          "base_uri": "https://localhost:8080/",
          "height": 34
        },
        "id": "8CgCy9p6p9El",
        "outputId": "bed5d3ec-6a70-4751-d9fa-3741d91b6cab"
      },
      "execution_count": 7,
      "outputs": [
        {
          "output_type": "display_data",
          "data": {
            "text/html": [
              "30"
            ],
            "text/markdown": "30",
            "text/latex": "30",
            "text/plain": [
              "[1] 30"
            ]
          },
          "metadata": {}
        }
      ]
    },
    {
      "cell_type": "code",
      "source": [
        "#activity10\n",
        "Newlist <- list(a = 1:10, b = \"Good morning\", c = \"Hi\")\n",
        "\n",
        "print(Newlist)\n",
        "\n",
        "Newlist$a <- Newlist$a + 1\n",
        "\n",
        "print (Newlist)"
      ],
      "metadata": {
        "colab": {
          "base_uri": "https://localhost:8080/"
        },
        "id": "7AWpJaa7qNLP",
        "outputId": "51caa4df-0e41-400b-ffd4-9554077684ba"
      },
      "execution_count": 16,
      "outputs": [
        {
          "output_type": "stream",
          "name": "stdout",
          "text": [
            "$a\n",
            " [1]  1  2  3  4  5  6  7  8  9 10\n",
            "\n",
            "$b\n",
            "[1] \"Good morning\"\n",
            "\n",
            "$c\n",
            "[1] \"Hi\"\n",
            "\n",
            "$a\n",
            " [1]  2  3  4  5  6  7  8  9 10 11\n",
            "\n",
            "$b\n",
            "[1] \"Good morning\"\n",
            "\n",
            "$c\n",
            "[1] \"Hi\"\n",
            "\n"
          ]
        }
      ]
    },
    {
      "cell_type": "code",
      "source": [
        "#activity11\n",
        "b <- list(a = 1:10, c = \"Hello\", d = \"AA\")\n",
        "print(b)\n",
        "b$a[-2]\n",
        "print(b)"
      ],
      "metadata": {
        "colab": {
          "base_uri": "https://localhost:8080/",
          "height": 356
        },
        "id": "9sy41LdIrJnh",
        "outputId": "158e33e2-e4bc-47bb-e207-8ddce3994e1b"
      },
      "execution_count": 17,
      "outputs": [
        {
          "output_type": "stream",
          "name": "stdout",
          "text": [
            "$a\n",
            " [1]  1  2  3  4  5  6  7  8  9 10\n",
            "\n",
            "$c\n",
            "[1] \"Hello\"\n",
            "\n",
            "$d\n",
            "[1] \"AA\"\n",
            "\n"
          ]
        },
        {
          "output_type": "display_data",
          "data": {
            "text/html": [
              "<style>\n",
              ".list-inline {list-style: none; margin:0; padding: 0}\n",
              ".list-inline>li {display: inline-block}\n",
              ".list-inline>li:not(:last-child)::after {content: \"\\00b7\"; padding: 0 .5ex}\n",
              "</style>\n",
              "<ol class=list-inline><li>1</li><li>3</li><li>4</li><li>5</li><li>6</li><li>7</li><li>8</li><li>9</li><li>10</li></ol>\n"
            ],
            "text/markdown": "1. 1\n2. 3\n3. 4\n4. 5\n5. 6\n6. 7\n7. 8\n8. 9\n9. 10\n\n\n",
            "text/latex": "\\begin{enumerate*}\n\\item 1\n\\item 3\n\\item 4\n\\item 5\n\\item 6\n\\item 7\n\\item 8\n\\item 9\n\\item 10\n\\end{enumerate*}\n",
            "text/plain": [
              "[1]  1  3  4  5  6  7  8  9 10"
            ]
          },
          "metadata": {}
        },
        {
          "output_type": "stream",
          "name": "stdout",
          "text": [
            "$a\n",
            " [1]  1  2  3  4  5  6  7  8  9 10\n",
            "\n",
            "$c\n",
            "[1] \"Hello\"\n",
            "\n",
            "$d\n",
            "[1] \"AA\"\n",
            "\n"
          ]
        }
      ]
    },
    {
      "cell_type": "code",
      "source": [
        "#activity12\n",
        "y <- list(\"a\", \"b\", \"c\")\n",
        "q <- list(\"A\", \"B\", \"C\", \"a\", \"b\", \"c\")\n",
        "\n",
        "yq <- intersect(y,q)\n",
        "\n",
        "print (yq)\n",
        "\n",
        "setdiff(unlist(q), unlist(y))"
      ],
      "metadata": {
        "colab": {
          "base_uri": "https://localhost:8080/",
          "height": 195
        },
        "id": "CwZ3A9BosUpm",
        "outputId": "cd1135c0-ccc7-4fc1-9d27-a2bb8c98d3d9"
      },
      "execution_count": 22,
      "outputs": [
        {
          "output_type": "stream",
          "name": "stdout",
          "text": [
            "[[1]]\n",
            "[1] \"a\"\n",
            "\n",
            "[[2]]\n",
            "[1] \"b\"\n",
            "\n",
            "[[3]]\n",
            "[1] \"c\"\n",
            "\n"
          ]
        },
        {
          "output_type": "display_data",
          "data": {
            "text/html": [
              "<style>\n",
              ".list-inline {list-style: none; margin:0; padding: 0}\n",
              ".list-inline>li {display: inline-block}\n",
              ".list-inline>li:not(:last-child)::after {content: \"\\00b7\"; padding: 0 .5ex}\n",
              "</style>\n",
              "<ol class=list-inline><li>'A'</li><li>'B'</li><li>'C'</li></ol>\n"
            ],
            "text/markdown": "1. 'A'\n2. 'B'\n3. 'C'\n\n\n",
            "text/latex": "\\begin{enumerate*}\n\\item 'A'\n\\item 'B'\n\\item 'C'\n\\end{enumerate*}\n",
            "text/plain": [
              "[1] \"A\" \"B\" \"C\""
            ]
          },
          "metadata": {}
        }
      ]
    }
  ]
}