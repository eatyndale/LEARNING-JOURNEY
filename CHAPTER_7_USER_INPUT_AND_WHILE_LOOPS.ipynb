{
  "cells": [
    {
      "cell_type": "markdown",
      "metadata": {
        "id": "view-in-github",
        "colab_type": "text"
      },
      "source": [
        "<a href=\"https://colab.research.google.com/github/eatyndale/LEARNING-JOURNEY/blob/main/CHAPTER_7_USER_INPUT_AND_WHILE_LOOPS.ipynb\" target=\"_parent\"><img src=\"https://colab.research.google.com/assets/colab-badge.svg\" alt=\"Open In Colab\"/></a>"
      ]
    },
    {
      "cell_type": "markdown",
      "metadata": {
        "id": "-CsRIQ7afVaj"
      },
      "source": [
        "#Introduction: input function\n"
      ]
    },
    {
      "cell_type": "code",
      "execution_count": null,
      "metadata": {
        "colab": {
          "base_uri": "https://localhost:8080/"
        },
        "id": "twUt4TukeL8Y",
        "outputId": "e142fb1d-bc62-4682-98f1-95ff1d263ef9"
      },
      "outputs": [
        {
          "name": "stdout",
          "output_type": "stream",
          "text": [
            "What is your first name? amarachi\n",
            "What is your last name? eche\n",
            "Hello Amarachi Eche !\n"
          ]
        }
      ],
      "source": [
        "first_name = input(\"What is your first name? \")\n",
        "last_name = input(\"What is your last name? \")\n",
        "print(f\"Hello {first_name.title()} {last_name.title()} !\")"
      ]
    },
    {
      "cell_type": "code",
      "execution_count": null,
      "metadata": {
        "colab": {
          "base_uri": "https://localhost:8080/"
        },
        "id": "QXmJi2z_fuUM",
        "outputId": "1962c3ea-e649-43a8-fa73-f60122878c0e"
      },
      "outputs": [
        {
          "name": "stdout",
          "output_type": "stream",
          "text": [
            "How old are you? 45\n",
            "45\n"
          ]
        }
      ],
      "source": [
        "prompt = \"How old are you? \"\n",
        "age = str(input(prompt))\n",
        "print(age)"
      ]
    },
    {
      "cell_type": "code",
      "execution_count": null,
      "metadata": {
        "colab": {
          "base_uri": "https://localhost:8080/"
        },
        "id": "mJnju0e2gDX7",
        "outputId": "bd508503-82a4-46ad-8eeb-5c26cf08ea99"
      },
      "outputs": [
        {
          "name": "stdout",
          "output_type": "stream",
          "text": [
            "How old are you? 65\n",
            "65\n",
            "You are old enough to vote!\n"
          ]
        }
      ],
      "source": [
        "prompt = \"How old are you? \"\n",
        "age = int(input(prompt))\n",
        "print(age)\n",
        "\n",
        "if age >= 18:\n",
        "  print(\"You are old enough to vote!\")\n",
        "else:\n",
        "  print(\"Sorry, you are too young to vote.\")"
      ]
    },
    {
      "cell_type": "markdown",
      "metadata": {
        "id": "09HFpcbAiF4U"
      },
      "source": [
        "Modulo\n",
        "> used to return the remainder in a division\n",
        "\n"
      ]
    },
    {
      "cell_type": "code",
      "execution_count": null,
      "metadata": {
        "colab": {
          "base_uri": "https://localhost:8080/"
        },
        "id": "WFepCGZvha69",
        "outputId": "55064894-f343-4c1e-e1b3-cafc513b1cd2"
      },
      "outputs": [
        {
          "name": "stdout",
          "output_type": "stream",
          "text": [
            "Check if your favourite number is even or odd. Enter number here \n",
            "87\n",
            "87 is odd\n"
          ]
        }
      ],
      "source": [
        "prompt = \"Check if your favourite number is even or odd. Enter number here \\n\"\n",
        "favorite_number = int(input(prompt))\n",
        "\n",
        "if favorite_number % 2 == 0:\n",
        "  print(f\"{favorite_number} is even\")\n",
        "else:\n",
        "  print(f\"{favorite_number} is odd\")"
      ]
    },
    {
      "cell_type": "markdown",
      "metadata": {
        "id": "ohcTECwgjA46"
      },
      "source": [
        "#while loops"
      ]
    },
    {
      "cell_type": "markdown",
      "source": [
        "These are used for when a loop is indefinite or continuous. ie when you dont know when a loop will end. But if you know when a loop ends (definite), a FOR loop is used."
      ],
      "metadata": {
        "id": "D35wO1QbQ-NG"
      }
    },
    {
      "cell_type": "code",
      "execution_count": null,
      "metadata": {
        "colab": {
          "base_uri": "https://localhost:8080/"
        },
        "collapsed": true,
        "id": "_2UvLFSkjD_o",
        "outputId": "0e5c572a-88bb-4a1a-8b86-c48201d3bd6e"
      },
      "outputs": [
        {
          "name": "stdout",
          "output_type": "stream",
          "text": [
            "1\n",
            "2\n",
            "3\n",
            "4\n",
            "5\n"
          ]
        }
      ],
      "source": [
        "current_number = 1\n",
        "while current_number <= 5:\n",
        "  print(current_number)\n",
        "  current_number += 1"
      ]
    },
    {
      "cell_type": "code",
      "execution_count": null,
      "metadata": {
        "colab": {
          "base_uri": "https://localhost:8080/"
        },
        "id": "BssSiaTaj7PJ",
        "outputId": "e260497b-9a3a-4d25-eae1-81e650d23d44"
      },
      "outputs": [
        {
          "name": "stdout",
          "output_type": "stream",
          "text": [
            "\n",
            "Tell me something, and I will repeat it back to you:\n",
            "SAFE WORD: Enter 'quit' to end the program. quit\n"
          ]
        }
      ],
      "source": [
        "prompt = \"\\nTell me something, and I will repeat it back to you:\"\n",
        "prompt += \"\\nSAFE WORD: Enter 'quit' to end the program. \"\n",
        "\n",
        "message = \"\"\n",
        "while message != 'quit':\n",
        "  message = input(prompt)\n",
        "  #if message != 'quit':\n",
        "  #print(message)"
      ]
    },
    {
      "cell_type": "markdown",
      "metadata": {
        "id": "vWWondn1mzkY"
      },
      "source": [
        "**FLAGS**"
      ]
    },
    {
      "cell_type": "code",
      "execution_count": null,
      "metadata": {
        "colab": {
          "base_uri": "https://localhost:8080/"
        },
        "collapsed": true,
        "id": "WUttfiChl0He",
        "outputId": "c4a071e1-8ee8-47c8-96ab-16ddca1dd6ac"
      },
      "outputs": [
        {
          "name": "stdout",
          "output_type": "stream",
          "text": [
            "\n",
            "Tell me somthing, and I will repeat it back to you. \n",
            "Enter 'quit' to end the program. hey\n",
            "hey\n",
            "\n",
            "Tell me somthing, and I will repeat it back to you. \n",
            "Enter 'quit' to end the program. hey\n",
            "hey\n",
            "\n",
            "Tell me somthing, and I will repeat it back to you. \n",
            "Enter 'quit' to end the program. QUit\n",
            "QUit\n",
            "\n",
            "Tell me somthing, and I will repeat it back to you. \n",
            "Enter 'quit' to end the program. quit\n"
          ]
        }
      ],
      "source": [
        "prompt = \"\\nTell me somthing, and I will repeat it back to you. \"\n",
        "prompt += \"\\nEnter 'quit' to end the program. \"\n",
        "\n",
        "active = True\n",
        "while active:\n",
        "  message = input(prompt)\n",
        "  if message == 'quit':\n",
        "    active = False\n",
        "  else:\n",
        "    print(message)"
      ]
    },
    {
      "cell_type": "code",
      "execution_count": null,
      "metadata": {
        "id": "FzNdq6NlnGqr"
      },
      "outputs": [],
      "source": []
    },
    {
      "cell_type": "code",
      "execution_count": null,
      "metadata": {
        "colab": {
          "base_uri": "https://localhost:8080/"
        },
        "collapsed": true,
        "id": "-Es-cx0enHYk",
        "outputId": "85861f97-7b18-4355-ca4a-21d7c1642b29"
      },
      "outputs": [
        {
          "name": "stdout",
          "output_type": "stream",
          "text": [
            "\n",
            "Tell me somthing, and I will repeat it back to you. \n",
            "Enter 'quit' to end the program. hfghrgfe\n",
            "hfghrgfe\n",
            "\n",
            "Tell me somthing, and I will repeat it back to you. \n",
            "Enter 'quit' to end the program. ghfgds\n",
            "ghfgds\n",
            "\n",
            "Tell me somthing, and I will repeat it back to you. \n",
            "Enter 'quit' to end the program. shdkgjgf\n",
            "shdkgjgf\n",
            "\n",
            "Tell me somthing, and I will repeat it back to you. \n",
            "Enter 'quit' to end the program. tired\n",
            "GAME OVER\n"
          ]
        }
      ],
      "source": [
        "prompt = \"\\nTell me somthing, and I will repeat it back to you. \"\n",
        "prompt += \"\\nEnter 'quit' to end the program. \"\n",
        "\n",
        "active = True\n",
        "while active:\n",
        "  message = input(prompt)\n",
        "  if message == 'quit':\n",
        "    active = False\n",
        "    print(\"GAME IS OVER\")\n",
        "  elif message == 'tired':\n",
        "    active = False\n",
        "    print(\"GAME OVER\")\n",
        "  else:\n",
        "    print(message)"
      ]
    },
    {
      "cell_type": "markdown",
      "metadata": {
        "id": "UQt88FErpqvA"
      },
      "source": [
        "**BREAK STATEMENT**"
      ]
    },
    {
      "cell_type": "code",
      "execution_count": null,
      "metadata": {
        "colab": {
          "base_uri": "https://localhost:8080/"
        },
        "id": "FZ3gllfwqWge",
        "outputId": "03fe2fb1-105e-4cd1-cf2a-5a1ee03c35f3"
      },
      "outputs": [
        {
          "name": "stdout",
          "output_type": "stream",
          "text": [
            "\n",
            "Please enter the name of a city you have visited:\n",
            "(Enter 'quit' when you are finished.) print\n",
            "I'd love to go to Print!\n",
            "\n",
            "Please enter the name of a city you have visited:\n",
            "(Enter 'quit' when you are finished.) tired\n"
          ]
        }
      ],
      "source": [
        "prompt = \"\\nPlease enter the name of a city you have visited:\"\n",
        "prompt += \"\\n(Enter 'quit' when you are finished.) \"\n",
        "\n",
        "while True:\n",
        "  city = input(prompt)\n",
        "  if city == 'quit':\n",
        "    break\n",
        "  elif city == 'tired':\n",
        "    break\n",
        "  else:\n",
        "    print(f\"I'd love to go to {city.title()}!\")"
      ]
    },
    {
      "cell_type": "markdown",
      "metadata": {
        "id": "SS9FzAs_tHpK"
      },
      "source": [
        "**CONTINUE**"
      ]
    },
    {
      "cell_type": "code",
      "execution_count": null,
      "metadata": {
        "colab": {
          "base_uri": "https://localhost:8080/"
        },
        "id": "FZfdMfUhr3Eb",
        "outputId": "4f38c3e6-3983-4eae-da2a-869bbee49259"
      },
      "outputs": [
        {
          "name": "stdout",
          "output_type": "stream",
          "text": [
            "Please enter your favourite number40\n",
            "Your favourite number is 41\n",
            "42\n"
          ]
        }
      ],
      "source": [
        "prompt = (\"Please enter your favourite number\")\n",
        "\n",
        "active = True\n",
        "while active:\n",
        "  number = int(input(prompt))\n",
        "  number += 1\n",
        "  if number < 20:\n",
        "    active = True\n",
        "    continue\n",
        "  else:\n",
        "    active = False\n",
        "    print(f\"Your favourite number is {number}\")\n",
        "  number += 1\n",
        "  if number % 2 == 0:\n",
        "    continue\n",
        "\n",
        "print(number)\n"
      ]
    },
    {
      "cell_type": "code",
      "execution_count": null,
      "metadata": {
        "id": "NC6wc4PQvv6I"
      },
      "outputs": [],
      "source": [
        "while number <25:\n",
        "  number += 1\n",
        "  if number % 2 == 0:\n",
        "    continue\n",
        "  print(number)"
      ]
    },
    {
      "cell_type": "code",
      "execution_count": null,
      "metadata": {
        "colab": {
          "base_uri": "https://localhost:8080/"
        },
        "id": "fsFm1zaC3smr",
        "outputId": "827b61cc-50bd-4374-b44e-708c8852f5e9"
      },
      "outputs": [
        {
          "metadata": {
            "tags": null
          },
          "name": "stdout",
          "output_type": "stream",
          "text": [
            "Correct\n",
            "Incorrect\n",
            "Incorrect\n"
          ]
        }
      ],
      "source": [
        "import random\n",
        "capitals_dict = {\n",
        "    'England': 'London',\n",
        "    'Scotland': 'Edinburgh',\n",
        "    'Wales': 'Cardiff',\n",
        "    'Northern Ireland': 'Belfast'\n",
        "}\n",
        "\n",
        "countries = []\n",
        "for key, value in capitals_dict.items():\n",
        "  countries.append(key)\n",
        "\n",
        "while True:\n",
        "  pick_country = random.choice(countries)\n",
        "  capitals = capitals_dict[pick_country]\n",
        "  guess = input (f\"What is the capital of {pick_country}:\").capitalize()\n",
        "  if guess != capitals:\n",
        "    print(\"Incorrect\")\n",
        "  else:\n",
        "    print(\"Correct\")\n",
        "\n",
        "\n",
        "\n"
      ]
    },
    {
      "cell_type": "code",
      "source": [
        "pets = ['dog', 'cat', 'dog', 'goldfish', 'cat', 'rabbit', 'cat']\n",
        "print(pets)\n",
        "while 'cat' in pets:\n",
        "  pets.remove('cat')\n",
        "  print(pets)"
      ],
      "metadata": {
        "colab": {
          "base_uri": "https://localhost:8080/"
        },
        "id": "pOpAGxRSGriT",
        "outputId": "4e940693-70b2-4b3b-88e9-7705b7381bd0"
      },
      "execution_count": 6,
      "outputs": [
        {
          "output_type": "stream",
          "name": "stdout",
          "text": [
            "['dog', 'dog', 'goldfish', 'cat', 'rabbit', 'cat']\n",
            "['dog', 'dog', 'goldfish', 'rabbit', 'cat']\n",
            "['dog', 'dog', 'goldfish', 'rabbit']\n"
          ]
        }
      ]
    },
    {
      "cell_type": "code",
      "source": [
        "responses = {}\n",
        "\n",
        "polling_active = True\n",
        "while polling_active:\n",
        "  name = input(\"\\nWhat is your name? \")\n",
        "  response = input(\"Which mountain would you like to climb someday? \")\n",
        "  responses [name] = response #this syntax is used to assign a key-value pair to a dictionaty\n",
        "  repeat = input(\"Would you like to let another person respond? (yes/no) \")\n",
        "  if repeat == 'no':\n",
        "    polling_active = False\n",
        "    print(\"\\n--- Poll Results ---\")\n",
        "\n",
        "for name, response in responses.items():\n",
        "  print(f\"{name} would like to climb {response}.\")\n",
        "\n"
      ],
      "metadata": {
        "colab": {
          "base_uri": "https://localhost:8080/"
        },
        "id": "2TUUpTBIHZfI",
        "outputId": "6df2085e-ed2d-4350-dce9-720b9683f723"
      },
      "execution_count": 16,
      "outputs": [
        {
          "output_type": "stream",
          "name": "stdout",
          "text": [
            "\n",
            "What is your name? Eche\n",
            "Which mountain would you like to climb someday? huh\n",
            "Would you like to let another person respond? (yes/no) yes\n",
            "\n",
            "What is your name? ghetdc\n",
            "Which mountain would you like to climb someday? gfgrgf\n",
            "Would you like to let another person respond? (yes/no) no\n",
            "\n",
            "--- Poll Results ---\n",
            "Eche would like to climb huh.\n",
            "ghetdc would like to climb gfgrgf.\n"
          ]
        }
      ]
    },
    {
      "cell_type": "code",
      "source": [
        "teams = {}\n",
        "\n",
        "team_data = True\n",
        "while team_data:\n",
        "  name = input (\"\\nWhat is the name of your team? \")\n",
        "  team_lead = input(\"What is your team lead? \")\n",
        "  teams [name] = team_lead\n",
        "  repeat = input (\"Is there any other team? Yes/NO:\")\n",
        "  if repeat == \"no\":\n",
        "    team_data = False\n",
        "    print (\"\\n--- Poll Results ---\")\n",
        "\n",
        "for name, team_lead in teams.items():\n",
        "  print(f\"The team lead for {name} is {team_lead}.\")"
      ],
      "metadata": {
        "colab": {
          "base_uri": "https://localhost:8080/"
        },
        "id": "5njYqM9hNCVW",
        "outputId": "3ad60e09-d1b0-4541-aec5-0f9b6e2df446"
      },
      "execution_count": 20,
      "outputs": [
        {
          "output_type": "stream",
          "name": "stdout",
          "text": [
            "\n",
            "What is the name of your team? product\n",
            "What is your team lead? sage\n",
            "Is there any other team? Yes/NO:yes\n",
            "\n",
            "What is the name of your team? QA\n",
            "What is your team lead? mercy\n",
            "Is there any other team? Yes/NO:yes\n",
            "\n",
            "What is the name of your team? FE\n",
            "What is your team lead? Dayo\n",
            "Is there any other team? Yes/NO:no\n",
            "\n",
            "--- Poll Results ---\n",
            "The team lead for product is sage.\n",
            "The team lead for QA is mercy.\n",
            "The team lead for FE is Dayo.\n"
          ]
        }
      ]
    },
    {
      "cell_type": "code",
      "source": [],
      "metadata": {
        "id": "uKlQ9EY2Nt_v"
      },
      "execution_count": null,
      "outputs": []
    }
  ],
  "metadata": {
    "colab": {
      "provenance": [],
      "authorship_tag": "ABX9TyOT9pHmaGAIBfTdFnr11PH3",
      "include_colab_link": true
    },
    "kernelspec": {
      "display_name": "Python 3",
      "name": "python3"
    },
    "language_info": {
      "name": "python"
    }
  },
  "nbformat": 4,
  "nbformat_minor": 0
}